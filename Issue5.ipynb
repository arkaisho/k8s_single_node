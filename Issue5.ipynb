{
 "cells": [
  {
   "cell_type": "markdown",
   "metadata": {},
   "source": [
    "## 1 Creating persistent data to the notebook\n",
    "Until now you have created ephemeral pods that once stopped will lose his data. We can change this creating a persistent volume and a persistent volume claim to use the node storage to store data and mount it inside the pod.\n",
    "\n",
    "To better undestand the configuration of the persistent volume read the kubernetes [documentation](https://kubernetes.io/docs/concepts/storage/persistent-volumes/) about persistent volume and persistent volume claims.\n",
    "\n",
    "The goal of this notebook is to create a persistent volume and its respective claim and use it to store the files used in the notebook. The tutoriall that supported this notebook is [here](https://kubernetes.io/docs/tasks/configure-pod-container/configure-persistent-volume-storage/).\n",
    "\n",
    "First lets make the pykube,json an yaml importations and create the API object to communicate with de cluster API."
   ]
  },
  {
   "cell_type": "code",
   "execution_count": 3,
   "metadata": {},
   "outputs": [],
   "source": [
    "import pykube\n",
    "import json\n",
    "import yaml\n",
    "\n",
    "api = pykube.HTTPClient(pykube.KubeConfig.from_file(\"k3s.yaml\"))"
   ]
  },
  {
   "cell_type": "markdown",
   "metadata": {},
   "source": [
    "### 1.1 Creating the persistent volume\n",
    "\n",
    "Run the code below to create and send to the API the information to create a persistent volume and a persistent volume claim."
   ]
  },
  {
   "cell_type": "code",
   "execution_count": 5,
   "metadata": {},
   "outputs": [],
   "source": [
    "pv = {'apiVersion': 'v1', 'kind': 'PersistentVolume', 'metadata': {'name': 'volume', 'labels': {'type': 'local'}}, 'spec': {'storageClassName': 'default', 'capacity': {'storage': '2Gi'}, 'accessModes': ['ReadWriteOnce'], 'hostPath': {'path': '/mnt/data'}}}\n",
    "pvc = {'apiVersion': 'v1', 'kind': 'PersistentVolumeClaim', 'metadata': {'name': 'claim'}, 'spec': {'storageClassName': 'default', 'accessModes': ['ReadWriteOnce'], 'resources': {'requests': {'storage': '1Gi'}}}}\n",
    "\n",
    "pykube.PersistentVolume(api,pv).create()\n",
    "pykube.PersistentVolumeClaim(api,pvc).create()"
   ]
  },
  {
   "cell_type": "markdown",
   "metadata": {},
   "source": [
    "the objects tha you have created are equivalent to:\n",
    "### persistent volume\n",
    "```yaml\n",
    "apiVersion: v1\n",
    "kind: PersistentVolume\n",
    "metadata:\n",
    "  labels:\n",
    "    type: local\n",
    "  name: volume\n",
    "spec:\n",
    "  accessModes:\n",
    "  - ReadWriteOnce\n",
    "  capacity:\n",
    "    storage: 2Gi\n",
    "  hostPath:\n",
    "    path: /mnt/data\n",
    "  storageClassName: default\n",
    "```\n",
    "### persistent volume claim\n",
    "```yaml\n",
    "apiVersion: v1\n",
    "kind: PersistentVolumeClaim\n",
    "metadata:\n",
    "  name: claim\n",
    "spec:\n",
    "  accessModes:\n",
    "  - ReadWriteOnce\n",
    "  resources:\n",
    "    requests:\n",
    "      storage: 1Gi\n",
    "  storageClassName: default\n",
    "```\n",
    "\n",
    "Note somethings in the files:\n",
    "* As we do not specify a volume type it assumes the default type (filesystem)\n",
    "* We created a \"storageClassName\" tha identifies the objects. It will be used by the cluster to bind they.\n",
    "* The hostpath on the persistentVolume identifies the folder on computer that will be mounted on the pod.\n",
    "* You can specify the amount of storage used by either the volume and the claim."
   ]
  },
  {
   "cell_type": "markdown",
   "metadata": {},
   "source": [
    "### 1.2 Updating the deployment to get the changes on\n",
    "Now let's get an upgrade on the deployment that we are using to make it call the persistent volume claim tha we have just created. To do it, you have to:\n",
    "1. get the old deployment object\n",
    "2. create a new dictionary descring the new deployment\n",
    "3. apply it using the patch function"
   ]
  },
  {
   "cell_type": "code",
   "execution_count": 14,
   "metadata": {},
   "outputs": [
    {
     "name": "stdout",
     "output_type": "stream",
     "text": [
      "notebook\n"
     ]
    }
   ],
   "source": [
    "#USE PYKUBE TO GET THE OLD DEPLOYMNENT OBJECT REFERENCE\n",
    "old = pykube.Deployment.objects(api).get_by_name(\"notebook\")\n",
    "print(old)"
   ]
  },
  {
   "cell_type": "code",
   "execution_count": 11,
   "metadata": {},
   "outputs": [
    {
     "name": "stdout",
     "output_type": "stream",
     "text": [
      "apiVersion: apps/v1\n",
      "kind: Deployment\n",
      "metadata:\n",
      "  name: notebook\n",
      "spec:\n",
      "  replicas: 1\n",
      "  selector:\n",
      "    matchLabels:\n",
      "      app: notebook\n",
      "  template:\n",
      "    metadata:\n",
      "      labels:\n",
      "        app: notebook\n",
      "    spec:\n",
      "      containers:\n",
      "      - image: arkaisho/minimal-notebook\n",
      "        name: notebook\n",
      "        ports:\n",
      "        - containerPort: 8888\n",
      "        volumeMounts:\n",
      "        - mountPath: /home/arkaisho\n",
      "          name: volume\n",
      "      volumes:\n",
      "      - name: volume\n",
      "        persistentVolumeClaim:\n",
      "          claimName: claim\n",
      "\n"
     ]
    }
   ],
   "source": [
    "#CREATE THE NEW OBJECT INCLUDING THE VOLUME CONFIGURATION\n",
    "dep = {'apiVersion': 'apps/v1', 'kind': 'Deployment', 'metadata': {'name': 'notebook'}, 'spec': {'replicas': 1, 'selector': {'matchLabels': {'app': 'notebook'}}, 'template': {'metadata': {'labels': {'app': 'notebook'}}, 'spec': {'containers': [{'name': 'notebook', 'image': 'arkaisho/minimal-notebook', 'ports': [{'containerPort': 8888}], 'volumeMounts': [{'mountPath': '/home/arkaisho', 'name': 'volume'}]}], 'volumes': [{'name': 'volume', 'persistentVolumeClaim': {'claimName': 'claim'}}]}}}}\n",
    "print(yaml.dump(dep))"
   ]
  },
  {
   "cell_type": "code",
   "execution_count": 15,
   "metadata": {},
   "outputs": [],
   "source": [
    "#APPLY THE CHANGES USING THE PATCH FUNCTION\n",
    "old.patch(dep)"
   ]
  },
  {
   "cell_type": "markdown",
   "metadata": {},
   "source": [
    "## 2 Test your volume\n",
    "Open your file browser on your host computer and put some files on the /mnt/data folder (like the k3s.yaml config file). Open your [notebook](http://localhost:8888) and see that the files are loaded."
   ]
  }
 ],
 "metadata": {
  "kernelspec": {
   "display_name": "Python 3",
   "language": "python",
   "name": "python3"
  },
  "language_info": {
   "codemirror_mode": {
    "name": "ipython",
    "version": 3
   },
   "file_extension": ".py",
   "mimetype": "text/x-python",
   "name": "python",
   "nbconvert_exporter": "python",
   "pygments_lexer": "ipython3",
   "version": "3.7.6"
  }
 },
 "nbformat": 4,
 "nbformat_minor": 4
}
