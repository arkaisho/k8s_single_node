{
 "cells": [
  {
   "cell_type": "markdown",
   "metadata": {},
   "source": [
    "# Testing the Apache Spark cluster with pyspark\n",
    "\n",
    "pyspark is an lib designed to ease the communication between python an Apache Spark cluster. This notebook is running inside a jupyter/pyspark-notebook pod with some configurations and enviromnents variables, so it can communicate with the cluster master through the kubernetes.\n",
    "\n",
    "## 1 Configure pyspark\n",
    "\n",
    "Run the cells bellow to configure a session inside the Apache Spark cluster\n",
    "\n",
    "### 1.1 make the necessary importations"
   ]
  },
  {
   "cell_type": "code",
   "execution_count": 1,
   "metadata": {},
   "outputs": [],
   "source": [
    "import pyspark\n",
    "import socket\n",
    "import random"
   ]
  },
  {
   "cell_type": "markdown",
   "metadata": {},
   "source": [
    "### 1.2 create the session\n",
    "use the socket lib to get the ip adress of this pod inside the kubernetes cluster"
   ]
  },
  {
   "cell_type": "code",
   "execution_count": 2,
   "metadata": {},
   "outputs": [
    {
     "name": "stdout",
     "output_type": "stream",
     "text": [
      "10.42.0.20\n"
     ]
    }
   ],
   "source": [
    "hostname = socket.gethostname()\n",
    "ip_address = socket.gethostbyname(hostname)\n",
    "print(ip_address)"
   ]
  },
  {
   "cell_type": "markdown",
   "metadata": {},
   "source": [
    "then use this ip address and the service created to expose the master pod to configure a new session in the cluster"
   ]
  },
  {
   "cell_type": "code",
   "execution_count": 3,
   "metadata": {},
   "outputs": [],
   "source": [
    "conf = pyspark.SparkConf()\n",
    "conf.setAppName(\"simple task\")\n",
    "conf.set(\"spark.driver.host\",ip_address)\n",
    "conf.setMaster(\"spark://spark-master-service:7077\")\n",
    "sc = pyspark.SparkContext(conf=conf)"
   ]
  },
  {
   "cell_type": "markdown",
   "metadata": {},
   "source": [
    "## 2 Run some test\n",
    "\n",
    "### 2.1 first run\n",
    "try to run the cell bellow to send a pi estimatin task to the cluster"
   ]
  },
  {
   "cell_type": "code",
   "execution_count": 4,
   "metadata": {},
   "outputs": [
    {
     "name": "stdout",
     "output_type": "stream",
     "text": [
      "[PYTHON SYSTEM OUT]Pi is roughly 3.141670\n",
      "CPU times: user 14.4 ms, sys: 7.43 ms, total: 21.8 ms\n",
      "Wall time: 8.66 s\n"
     ]
    }
   ],
   "source": [
    "%%time\n",
    "def inside(p):\n",
    "    x, y = random.random(), random.random()\n",
    "    return 1 if x*x + y*y < 1 else 0\n",
    "NUM_SAMPLES = 5000000\n",
    "count = sc.parallelize(range(0, NUM_SAMPLES)).map(inside).reduce(lambda a, b: a + b)\n",
    "print(\"[PYTHON SYSTEM OUT]Pi is roughly %f\" % (4.0 * count / NUM_SAMPLES))"
   ]
  },
  {
   "cell_type": "markdown",
   "metadata": {},
   "source": [
    "### 2.2 second run\n",
    "come back to the first notebook and scale the cluster to 2 workers, then, run the code bellow using 2 workers and see the difference beetwen the time that the cluster take to run the code."
   ]
  },
  {
   "cell_type": "code",
   "execution_count": 21,
   "metadata": {},
   "outputs": [
    {
     "name": "stdout",
     "output_type": "stream",
     "text": [
      "[PYTHON SYSTEM OUT]Pi is roughly 3.141234\n",
      "CPU times: user 10.1 ms, sys: 8.7 ms, total: 18.8 ms\n",
      "Wall time: 4.44 s\n"
     ]
    }
   ],
   "source": [
    "%%time\n",
    "def inside(p):\n",
    "    x, y = random.random(), random.random()\n",
    "    return 1 if x*x + y*y < 1 else 0\n",
    "NUM_SAMPLES = 5000000\n",
    "count = sc.parallelize(range(0, NUM_SAMPLES)).map(inside).reduce(lambda a, b: a + b)\n",
    "print(\"[PYTHON SYSTEM OUT]Pi is roughly %f\" % (4.0 * count / NUM_SAMPLES))"
   ]
  },
  {
   "cell_type": "markdown",
   "metadata": {},
   "source": [
    "## 3 Delete the cluster session\n",
    "Stop the spark session and get back to the other notebook to delete the cluster"
   ]
  },
  {
   "cell_type": "code",
   "execution_count": 5,
   "metadata": {},
   "outputs": [],
   "source": [
    "sc.stop()"
   ]
  }
 ],
 "metadata": {
  "kernelspec": {
   "display_name": "Python 3",
   "language": "python",
   "name": "python3"
  },
  "language_info": {
   "codemirror_mode": {
    "name": "ipython",
    "version": 3
   },
   "file_extension": ".py",
   "mimetype": "text/x-python",
   "name": "python",
   "nbconvert_exporter": "python",
   "pygments_lexer": "ipython3",
   "version": "3.7.6"
  }
 },
 "nbformat": 4,
 "nbformat_minor": 4
}
