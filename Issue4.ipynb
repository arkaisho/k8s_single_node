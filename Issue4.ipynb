{
 "cells": [
  {
   "cell_type": "markdown",
   "metadata": {},
   "source": [
    "## 1 Introduction"
   ]
  },
  {
   "cell_type": "markdown",
   "metadata": {},
   "source": [
    "Until now we have interacted with our single node cluster using the kubectl commands, but is usefull lear how to interact with the cluster using python. Now we will interact with the kubernetes cluster usign python pykube-ng library.\n",
    "\n",
    "Let's start making some importations to use:\n",
    "* the pykube-ng to interact with the cluster.\n",
    "* json and yaml libs to better visualize the objects in this notebook."
   ]
  },
  {
   "cell_type": "code",
   "execution_count": 3,
   "metadata": {},
   "outputs": [],
   "source": [
    "import pykube\n",
    "import json\n",
    "import yaml"
   ]
  },
  {
   "cell_type": "markdown",
   "metadata": {},
   "source": [
    "Now we can make use of the pykube lib with few steps like showed in README.\n",
    "1. First lets create an api object to point to our cluster api.\n",
    "2. the we will query a list of the runnig pods in the cluster."
   ]
  },
  {
   "cell_type": "code",
   "execution_count": 4,
   "metadata": {},
   "outputs": [
    {
     "name": "stdout",
     "output_type": "stream",
     "text": [
      "type of object of pods list: <class 'pykube.query.Query'> \n",
      "\n",
      "svclb-notebook-h7pxg\n",
      "notebook-7dd7db75cd-g8h7f\n"
     ]
    }
   ],
   "source": [
    "#replace the string parameter with the name of your kubernetes config file.\n",
    "api = pykube.HTTPClient(pykube.KubeConfig.from_file(\"k3s.yaml\"))\n",
    "#now we can use the pykube and the api object to get the list of pods\n",
    "pods = pykube.Pod.objects(api)\n",
    "#notice that the pods list is not a python list\n",
    "print(\"type of object of pods list:\",type(pods),\"\\n\")\n",
    "#but we can still iterate over the object to print information about the pod\n",
    "for pod in pods:\n",
    "    print(pod)"
   ]
  },
  {
   "cell_type": "markdown",
   "metadata": {},
   "source": [
    "Let's understand the object that we have iterated over."
   ]
  },
  {
   "cell_type": "code",
   "execution_count": 6,
   "metadata": {},
   "outputs": [
    {
     "name": "stdout",
     "output_type": "stream",
     "text": [
      "<class 'pykube.objects.Pod'> \n",
      "\n",
      "This is the map of the pod object propeties: ['__class__', '__delattr__', '__dict__', '__dir__', '__doc__', '__eq__', '__format__', '__ge__', '__getattribute__', '__gt__', '__hash__', '__init__', '__init_subclass__', '__le__', '__lt__', '__module__', '__ne__', '__new__', '__reduce__', '__reduce_ex__', '__repr__', '__setattr__', '__sizeof__', '__str__', '__subclasshook__', '__weakref__', '_original_obj', 'annotations', 'api', 'api_kwargs', 'base', 'create', 'delete', 'endpoint', 'exists', 'kind', 'labels', 'logs', 'metadata', 'name', 'namespace', 'obj', 'objects', 'patch', 'ready', 'reload', 'set_obj', 'update', 'version', 'watch'] \n",
      "\n"
     ]
    }
   ],
   "source": [
    "#Replace the string parameter with one of the pods names printed by previous session\n",
    "pod = pods.get_by_name(\"notebook-7dd7db75cd-g8h7f\")\n",
    "print(type(pod),\"\\n\")\n",
    "#we can get the properties inside the Pod object using the dir() function\n",
    "print(\"This is the map of the pod object propeties:\",dir(pod),\"\\n\")"
   ]
  },
  {
   "cell_type": "markdown",
   "metadata": {},
   "source": [
    "as we see, we can use the pod to get information and perform actions"
   ]
  },
  {
   "cell_type": "code",
   "execution_count": 7,
   "metadata": {},
   "outputs": [
    {
     "name": "stdout",
     "output_type": "stream",
     "text": [
      "Information about the pod: \n",
      "\n",
      "Pod namespace: default\n",
      "Pod first log: Changing ownership of /home/arkaisho to 1000:100 with options ''\n"
     ]
    }
   ],
   "source": [
    "#as we see, we can use the pod to get information and perform actions\n",
    "print(\"Information about the pod:\",\"\\n\")\n",
    "print(\"Pod namespace:\",pod.namespace)\n",
    "print(\"Pod first log:\",pod.logs().split(\"\\n\")[0])"
   ]
  },
  {
   "cell_type": "markdown",
   "metadata": {},
   "source": [
    "## 2 making a request (create, expose and delete)\n",
    "Pykube-ng also allows you to communicate with the API by sending requests with instructions to it. requests need the api object and a python dictionary with the information."
   ]
  },
  {
   "cell_type": "markdown",
   "metadata": {},
   "source": [
    "### 2.1 Creating a pod\n",
    "To create a pod you can use the api already created in previous steps and a dict describing a nginx pod. Use this dict to create your pod:"
   ]
  },
  {
   "cell_type": "code",
   "execution_count": 10,
   "metadata": {},
   "outputs": [
    {
     "name": "stdout",
     "output_type": "stream",
     "text": [
      "the object you created is equivalent to the following .yaml file:\n",
      " apiVersion: v1\n",
      "kind: Pod\n",
      "metadata:\n",
      "  labels:\n",
      "    app: nginx\n",
      "  name: nginx\n",
      "spec:\n",
      "  containers:\n",
      "  - image: nginx\n",
      "    name: nginx\n",
      "    ports:\n",
      "    - containerPort: 8000\n",
      "\n"
     ]
    }
   ],
   "source": [
    "obj = {'apiVersion': 'v1', 'kind': 'Pod', 'metadata': {'name': 'nginx', 'labels': {'app': 'nginx'}},\n",
    "       'spec': {'containers': [{'image': 'nginx', 'name': 'nginx', 'ports': [{'containerPort': 8000}]}]}}\n",
    "print(\"the object you created is equivalent to the following .yaml file:\\n\",yaml.dump(obj))"
   ]
  },
  {
   "cell_type": "markdown",
   "metadata": {},
   "source": [
    "next you just have to send it to the right spot on the API:"
   ]
  },
  {
   "cell_type": "code",
   "execution_count": 19,
   "metadata": {},
   "outputs": [],
   "source": [
    "pykube.Pod(api,obj).create()"
   ]
  },
  {
   "cell_type": "markdown",
   "metadata": {},
   "source": [
    "And now, whe you run the get pod query again there is a new nginx pod running."
   ]
  },
  {
   "cell_type": "code",
   "execution_count": 20,
   "metadata": {},
   "outputs": [
    {
     "name": "stdout",
     "output_type": "stream",
     "text": [
      "svclb-notebook-zhk94\n",
      "notebook\n",
      "svclb-nginx-97ffk\n",
      "nginx\n"
     ]
    }
   ],
   "source": [
    "pods = pykube.Pod.objects(api)\n",
    "for pod in pods:\n",
    "    print(pod)"
   ]
  },
  {
   "cell_type": "markdown",
   "metadata": {},
   "source": [
    "### 2.2 Exposing the pod\n",
    "you can expose the nginx pod by creating a service with the selector {'app': 'nginx'}"
   ]
  },
  {
   "cell_type": "code",
   "execution_count": 11,
   "metadata": {},
   "outputs": [
    {
     "name": "stdout",
     "output_type": "stream",
     "text": [
      "the object you created is equivalent to the following .yaml file:\n",
      " apiVersion: v1\n",
      "kind: Service\n",
      "metadata:\n",
      "  name: nginx\n",
      "spec:\n",
      "  ports:\n",
      "  - port: 8000\n",
      "    protocol: TCP\n",
      "    targetPort: 8000\n",
      "  selector:\n",
      "    app: nginx\n",
      "  type: LoadBalancer\n",
      "\n"
     ]
    }
   ],
   "source": [
    "obj = {'apiVersion': 'v1', 'kind': 'Service', 'metadata': {'name': 'nginx'}, 'spec': {'selector': {'app': 'nginx'}, 'ports': [{'protocol': 'TCP', 'port': 8000, 'targetPort': 8000}], 'type': 'LoadBalancer'}}\n",
    "print(\"the object you created is equivalent to the following .yaml file:\\n\",yaml.dump(obj))\n",
    "pykube.Service(api,obj).create()"
   ]
  },
  {
   "cell_type": "markdown",
   "metadata": {},
   "source": [
    "### 2.3 Deleting the pod and the service\n",
    "To delete the pod, you just have to get it with the api and call the delete function.\n",
    "> The service can be deleted the same way"
   ]
  },
  {
   "cell_type": "code",
   "execution_count": 22,
   "metadata": {},
   "outputs": [],
   "source": [
    "pod = pykube.Pod.objects(api).get_by_name(\"nginx\")\n",
    "svc = pykube.Service.objects(api).get_by_name(\"nginx\")\n",
    "pod.delete()\n",
    "svc.delete()"
   ]
  },
  {
   "cell_type": "markdown",
   "metadata": {},
   "source": [
    "When you run the get again, they're gone."
   ]
  },
  {
   "cell_type": "code",
   "execution_count": 12,
   "metadata": {},
   "outputs": [
    {
     "name": "stdout",
     "output_type": "stream",
     "text": [
      "svclb-notebook-h7pxg\n",
      "notebook-7dd7db75cd-g8h7f\n"
     ]
    }
   ],
   "source": [
    "pods = pykube.Pod.objects(api)\n",
    "for pod in pods:\n",
    "    print(pod)"
   ]
  }
 ],
 "metadata": {
  "file_extension": ".py",
  "kernelspec": {
   "display_name": "Python 3",
   "language": "python",
   "name": "python3"
  },
  "language_info": {
   "codemirror_mode": {
    "name": "ipython",
    "version": 3
   },
   "file_extension": ".py",
   "mimetype": "text/x-python",
   "name": "python",
   "nbconvert_exporter": "python",
   "pygments_lexer": "ipython3",
   "version": "3.7.6"
  },
  "mimetype": "text/x-python",
  "name": "python",
  "npconvert_exporter": "python",
  "pygments_lexer": "ipython3",
  "version": 3
 },
 "nbformat": 4,
 "nbformat_minor": 2
}
