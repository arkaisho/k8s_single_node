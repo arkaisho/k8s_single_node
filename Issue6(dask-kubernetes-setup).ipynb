{
 "cells": [
  {
   "cell_type": "markdown",
   "metadata": {},
   "source": [
    "# Creating a dask cluster (using dask-kubernetes)\n",
    "\n",
    "In order to use Dask to perform complex and parallelized operations in Python we need to set up an environment within the cluster with a scheduler and workers. \n",
    "\n",
    "The easiest way to do this is by using the [dask_kubernetes](https://kubernetes.dask.org/en/latest/) library, which creates the environment using the native kubernetes API. It currently needs to be used within a Pod that contains permission to create and delete other pods, so let's do it."
   ]
  },
  {
   "cell_type": "markdown",
   "metadata": {},
   "source": [
    "## 1 The permissions\n",
    "The dask_kubernetes lib uses the serviceaccount of the pod to make requests to the api, but as we do not specified any ServiceAccount to the pod, it should be using the \"default\" ServiceAccount. What we need to do is to provide this ServiceAccount the permission to control other pods and services.\n",
    "\n",
    "Read about [Roles](https://kubernetes.io/docs/reference/access-authn-authz/rbac/) and [service accounts](https://kubernetes.io/docs/tasks/configure-pod-container/configure-service-account/).\n",
    "\n",
    "We will:\n",
    "1. Get the \"default\" ServiceAccount namespace\n",
    "2. Create a Role to manage other pods\n",
    "3. Bind the Role to \"default\" ServiceAccount at the same namespace"
   ]
  },
  {
   "cell_type": "code",
   "execution_count": 3,
   "metadata": {},
   "outputs": [],
   "source": [
    "# First let's import the libs we will use in the next steps\n",
    "import pykube\n",
    "import yaml,json\n",
    "# And make the pykube api object\n",
    "api = pykube.HTTPClient(pykube.KubeConfig.from_file(\"k3s.yaml\"))"
   ]
  },
  {
   "cell_type": "code",
   "execution_count": 8,
   "metadata": {},
   "outputs": [
    {
     "name": "stdout",
     "output_type": "stream",
     "text": [
      "Name: default \n",
      "Namespace: default\n"
     ]
    }
   ],
   "source": [
    "# Now lets get the 'default' service account namespace information\n",
    "sa = pykube.ServiceAccount.objects(api).get_by_name(\"default\")\n",
    "print(\"Name: \"+sa.name,\"\\nNamespace: \"+sa.namespace)"
   ]
  },
  {
   "cell_type": "code",
   "execution_count": 12,
   "metadata": {},
   "outputs": [],
   "source": [
    "# Now we will use pykube to create the dask_kubernetes Role provided by the documentation\n",
    "# you can see it in the .yaml format here: https://kubernetes.dask.org/en/latest/#role-based-access-control-rbac\n",
    "# I've alread parsed into a dict object\n",
    "\n",
    "role = {\n",
    "  \"kind\": \"Role\", \n",
    "  \"apiVersion\": \"rbac.authorization.k8s.io/v1\", \n",
    "  \"metadata\": {\n",
    "    \"name\": \"daskKubernetes\"\n",
    "  },\n",
    "  \"rules\": [\n",
    "    {\n",
    "      \"apiGroups\": [\n",
    "        \"\"\n",
    "      ], \n",
    "      \"verbs\": [\n",
    "        \"get\", \n",
    "        \"list\", \n",
    "        \"watch\", \n",
    "        \"create\", \n",
    "        \"delete\"\n",
    "      ], \n",
    "      \"resources\": [\n",
    "        \"pods\"\n",
    "      ]\n",
    "    }, \n",
    "    {\n",
    "      \"apiGroups\": [\n",
    "        \"\"\n",
    "      ], \n",
    "      \"verbs\": [\n",
    "        \"get\", \n",
    "        \"list\"\n",
    "      ], \n",
    "      \"resources\": [\n",
    "        \"pods/log\"\n",
    "      ]\n",
    "    }\n",
    "  ], \n",
    "}\n",
    "\n",
    "pykube.Role(api,role).create()"
   ]
  },
  {
   "cell_type": "code",
   "execution_count": 1,
   "metadata": {},
   "outputs": [],
   "source": [
    "# Lets create the RoleBinding, to bind the role and the service account in the same namespace\n",
    "roleBinding = {\n",
    "  \"apiVersion\": \"rbac.authorization.k8s.io/v1\", \n",
    "  \"metadata\": {\n",
    "    \"namespace\": \"default\", \n",
    "    \"name\": \"daskKubernetes\"\n",
    "  },\n",
    "  \"roleRef\": {\n",
    "    \"apiGroup\": \"rbac.authorization.k8s.io\", \n",
    "    \"kind\": \"Role\", \n",
    "    \"name\": \"daskKubernetes\"\n",
    "  }, \n",
    "  \"kind\": \"RoleBinding\", \n",
    "  \"subjects\": [\n",
    "    {\n",
    "      \"kind\": \"ServiceAccount\", \n",
    "      \"namespace\": \"default\", \n",
    "      \"name\": \"default\"\n",
    "    }\n",
    "  ]\n",
    "}\n",
    "pykube.RoleBinding(api,roleBinding).create()"
   ]
  },
  {
   "cell_type": "markdown",
   "metadata": {},
   "source": [
    "## 2 Using the dask kubernetes\n",
    "Now we can use the dask_kubernetes lib (already installed on the notebook) like de demo [here](https://kubernetes.dask.org/en/latest/)."
   ]
  },
  {
   "cell_type": "code",
   "execution_count": 1,
   "metadata": {
    "scrolled": true
   },
   "outputs": [
    {
     "name": "stderr",
     "output_type": "stream",
     "text": [
      "distributed.http.proxy - INFO - To route to workers diagnostics web server please install jupyter-server-proxy: python -m pip install jupyter-server-proxy\n",
      "distributed.scheduler - INFO - Clear task state\n",
      "distributed.scheduler - INFO -   Scheduler at:    tcp://10.42.0.10:34331\n",
      "distributed.scheduler - INFO -   dashboard at:                     :8787\n"
     ]
    }
   ],
   "source": [
    "from dask_kubernetes import KubeCluster\n",
    "\n",
    "cluster = KubeCluster.from_yaml(\"daskKubernetes/worker.yaml\")\n",
    "cluster.scale(1)"
   ]
  },
  {
   "cell_type": "code",
   "execution_count": 2,
   "metadata": {
    "scrolled": true
   },
   "outputs": [
    {
     "name": "stderr",
     "output_type": "stream",
     "text": [
      "distributed.scheduler - INFO - Receive client connection: Client-8a91467a-9d39-11ea-8024-d29c38a6fc12\n",
      "distributed.core - INFO - Starting established connection\n"
     ]
    }
   ],
   "source": [
    "from dask.distributed import Client\n",
    "client = Client(cluster)"
   ]
  },
  {
   "cell_type": "code",
   "execution_count": 7,
   "metadata": {},
   "outputs": [
    {
     "data": {
      "text/html": [
       "<table style=\"border: 2px solid white;\">\n",
       "<tr>\n",
       "<td style=\"vertical-align: top; border: 0px solid white\">\n",
       "<h3 style=\"text-align: left;\">Client</h3>\n",
       "<ul style=\"text-align: left; list-style: none; margin: 0; padding: 0;\">\n",
       "  <li><b>Scheduler: </b>tcp://10.42.0.10:34331</li>\n",
       "  <li><b>Dashboard: </b><a href='http://10.42.0.10:8787/status' target='_blank'>http://10.42.0.10:8787/status</a></li>\n",
       "</ul>\n",
       "</td>\n",
       "<td style=\"vertical-align: top; border: 0px solid white\">\n",
       "<h3 style=\"text-align: left;\">Cluster</h3>\n",
       "<ul style=\"text-align: left; list-style:none; margin: 0; padding: 0;\">\n",
       "  <li><b>Workers: </b>1</li>\n",
       "  <li><b>Cores: </b>2</li>\n",
       "  <li><b>Memory: </b>4.00 GB</li>\n",
       "</ul>\n",
       "</td>\n",
       "</tr>\n",
       "</table>"
      ],
      "text/plain": [
       "<Client: 'tcp://10.42.0.10:34331' processes=1 threads=2, memory=4.00 GB>"
      ]
     },
     "execution_count": 7,
     "metadata": {},
     "output_type": "execute_result"
    }
   ],
   "source": [
    "client"
   ]
  },
  {
   "cell_type": "code",
   "execution_count": 8,
   "metadata": {},
   "outputs": [
    {
     "name": "stdout",
     "output_type": "stream",
     "text": [
      "CPU times: user 161 ms, sys: 8.2 ms, total: 169 ms\n",
      "Wall time: 2.03 s\n"
     ]
    },
    {
     "data": {
      "text/plain": [
       "5"
      ]
     },
     "execution_count": 8,
     "metadata": {},
     "output_type": "execute_result"
    }
   ],
   "source": [
    "%%time\n",
    "from time import sleep\n",
    "from dask import delayed\n",
    "\n",
    "def inc(x):\n",
    "    sleep(1)\n",
    "    return x + 1\n",
    "\n",
    "def add(x, y):\n",
    "    sleep(1)\n",
    "    return x + y\n",
    "\n",
    "x = delayed(inc)(1)\n",
    "y = delayed(inc)(2)\n",
    "z = delayed(add)(x, y)\n",
    "\n",
    "z.compute()"
   ]
  },
  {
   "cell_type": "code",
   "execution_count": 9,
   "metadata": {},
   "outputs": [
    {
     "data": {
      "image/png": "[encoded data removed]",
      "text/plain": [
       "<IPython.core.display.Image object>"
      ]
     },
     "execution_count": 9,
     "metadata": {},
     "output_type": "execute_result"
    }
   ],
   "source": [
    "z.visualize()"
   ]
  },
  {
   "cell_type": "code",
   "execution_count": 10,
   "metadata": {
    "scrolled": false
   },
   "outputs": [
    {
     "name": "stderr",
     "output_type": "stream",
     "text": [
      "distributed.scheduler - INFO - Remove client Client-8a91467a-9d39-11ea-8024-d29c38a6fc12\n",
      "distributed.scheduler - INFO - Remove client Client-8a91467a-9d39-11ea-8024-d29c38a6fc12\n",
      "distributed.scheduler - INFO - Close client connection: Client-8a91467a-9d39-11ea-8024-d29c38a6fc12\n"
     ]
    }
   ],
   "source": [
    "client.close()"
   ]
  },
  {
   "cell_type": "code",
   "execution_count": 11,
   "metadata": {
    "scrolled": false
   },
   "outputs": [
    {
     "name": "stderr",
     "output_type": "stream",
     "text": [
      "distributed.scheduler - INFO - Scheduler closing...\n",
      "distributed.scheduler - INFO - Scheduler closing all comms\n",
      "distributed.scheduler - INFO - Remove worker <Worker 'tcp://10.42.0.11:36285', name: 0, memory: 0, processing: 0>\n",
      "distributed.core - INFO - Removing comms to tcp://10.42.0.11:36285\n",
      "distributed.scheduler - INFO - Lost all workers\n"
     ]
    }
   ],
   "source": [
    "cluster.close()"
   ]
  }
 ],
 "metadata": {
  "kernelspec": {
   "display_name": "Python 3",
   "language": "python",
   "name": "python3"
  },
  "language_info": {
   "codemirror_mode": {
    "name": "ipython",
    "version": 3
   },
   "file_extension": ".py",
   "mimetype": "text/x-python",
   "name": "python",
   "nbconvert_exporter": "python",
   "pygments_lexer": "ipython3",
   "version": "3.7.6"
  }
 },
 "nbformat": 4,
 "nbformat_minor": 4
}
