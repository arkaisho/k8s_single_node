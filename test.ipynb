{
 "cells": [
  {
   "cell_type": "code",
   "execution_count": 1,
   "metadata": {},
   "outputs": [],
   "source": [
    "import operator\n",
    "import pykube\n",
    "import json\n",
    "from pku import Util\n",
    "import yaml"
   ]
  },
  {
   "cell_type": "code",
   "execution_count": 2,
   "metadata": {},
   "outputs": [],
   "source": [
    "ut = Util(\"config\")"
   ]
  },
  {
   "cell_type": "code",
   "execution_count": 6,
   "metadata": {},
   "outputs": [
    {
     "name": "stdout",
     "output_type": "stream",
     "text": [
      "Pods:\n",
      "1 - svclb-notebook-wd49x\n",
      "\timage: rancher/klipper-lb:v0.1.2\n",
      "\tstatus: Running\n",
      "\thostIP: 192.168.1.8\n",
      "\tpodIP: 10.42.0.8\n",
      "\n",
      "2 - notebook-65bcf48946-xxxmw\n",
      "\timage: arkaisho/minimal-notebook\n",
      "\tstatus: Running\n",
      "\thostIP: 192.168.1.8\n",
      "\tpodIP: 10.42.0.7\n",
      "\n",
      "Services:\n",
      "1 - kubernetes\n",
      "\tclusterIp: \"10.43.0.1\"\n",
      "\tports: 443 : 6443\n",
      "\n",
      "2 - notebook\n",
      "\tclusterIp: \"10.43.100.3\"\n",
      "\texternalIp: \"192.168.1.8\"\n",
      "\tports: 8888 : 8888\n",
      "\n",
      "Deployments:\n",
      "1 - notebook\n"
     ]
    }
   ],
   "source": [
    "ut.getInfo()"
   ]
  },
  {
   "cell_type": "code",
   "execution_count": 7,
   "metadata": {},
   "outputs": [
    {
     "name": "stdout",
     "output_type": "stream",
     "text": [
      "{'apiVersion': 'apps/v1', 'kind': 'Deployment', 'metadata': {'name': 'flask'}, 'spec': {'replicas': 1, 'selector': {'matchLabels': {'app': 'flask'}}, 'template': {'metadata': {'labels': {'app': 'flask'}}, 'spec': {'containers': [{'name': 'flask', 'image': 'arkaisho/hello_flask', 'ports': [{'containerPort': 5000}]}]}}}}\n"
     ]
    }
   ],
   "source": [
    "#UTIL INSTRUCTIONS\n",
    "deployment = ut.deploymentGenerator(deploymentName=\"flask\",image=\"arkaisho/hello_flask\",port=5000)\n",
    "print(deployment)"
   ]
  },
  {
   "cell_type": "code",
   "execution_count": 8,
   "metadata": {},
   "outputs": [
    {
     "name": "stdout",
     "output_type": "stream",
     "text": [
      "{'apiVersion': 'v1', 'kind': 'Service', 'metadata': {'name': 'flask'}, 'spec': {'selector': {'app': 'flask'}, 'ports': [{'protocol': 'TCP', 'port': 5000, 'targetPort': 5000}], 'type': 'LoadBalancer'}}\n"
     ]
    }
   ],
   "source": [
    "#UTIL INSTRUCTIONS\n",
    "service = ut.serviceGenerator(serviceName=\"flask\",deploymentName=\"flask\",typ=\"LoadBalancer\",port=5000,targetPort=5000)\n",
    "print(service)"
   ]
  },
  {
   "cell_type": "code",
   "execution_count": 4,
   "metadata": {},
   "outputs": [],
   "source": [
    "#UTIL INSTRUCTIONS\n",
    "ut.createDeployment(deploymentName=\"flask\",image=\"arkaisho/hello_flask\",port=8888)"
   ]
  },
  {
   "cell_type": "code",
   "execution_count": 9,
   "metadata": {},
   "outputs": [],
   "source": [
    "#UTIL INSTRUCTIONS\n",
    "ut.createService(serviceName=\"flask\",deploymentName=\"flask\",typ=\"LoadBalancer\",port=8888,targetPort=8888)"
   ]
  },
  {
   "cell_type": "code",
   "execution_count": 9,
   "metadata": {},
   "outputs": [],
   "source": [
    "#UTIL INSTRUCTIONS\n",
    "ut.getDeployment(\"flask\")"
   ]
  },
  {
   "cell_type": "code",
   "execution_count": 10,
   "metadata": {},
   "outputs": [],
   "source": [
    "#UTIL INSTRUCTIONS\n",
    "ut.getService(\"flask\")"
   ]
  },
  {
   "cell_type": "code",
   "execution_count": 4,
   "metadata": {},
   "outputs": [],
   "source": [
    "#UTIL INSTRUCTIONS\n",
    "ut.deleteDeployment(\"flask\")"
   ]
  },
  {
   "cell_type": "code",
   "execution_count": 5,
   "metadata": {},
   "outputs": [],
   "source": [
    "#UTIL INSTRUCTIONS\n",
    "ut.deleteService(\"flask\")"
   ]
  }
 ],
 "metadata": {
  "file_extension": ".py",
  "kernelspec": {
   "display_name": "Python 3.7.5 64-bit ('env': venv)",
   "language": "python",
   "name": "python37564bitenvvenv974db35581794f36a6bc6bf222b4ab5d"
  },
  "language_info": {
   "codemirror_mode": {
    "name": "ipython",
    "version": 3
   },
   "file_extension": ".py",
   "mimetype": "text/x-python",
   "name": "python",
   "nbconvert_exporter": "python",
   "pygments_lexer": "ipython3",
   "version": "3.7.5"
  },
  "mimetype": "text/x-python",
  "name": "python",
  "npconvert_exporter": "python",
  "pygments_lexer": "ipython3",
  "version": 3
 },
 "nbformat": 4,
 "nbformat_minor": 2
}
